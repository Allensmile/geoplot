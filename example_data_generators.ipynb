{
 "cells": [
  {
   "cell_type": "markdown",
   "metadata": {},
   "source": [
    "In order to test out the capacities of `geoplot` as I develop it I need to have a large number of pre-constructed examples which I can load into a `GeoDataFrame` and then simply test out."
   ]
  },
  {
   "cell_type": "markdown",
   "metadata": {},
   "source": [
    "## NYC Real Estate Sales: `nyc_real_estate_density.geojson`\n",
    "\n",
    "This `geojson` file was generated as a consequence of my earlier [New York City real estate project](https://github.com/ResidentMario/nyc-real-estate-sales/blob/master/real_estate_density.geojson) and just brought over here."
   ]
  },
  {
   "cell_type": "markdown",
   "metadata": {
    "collapsed": true
   },
   "source": [
    "## NYC Boroughs: `nyc_boroughs.geojson`\n",
    "\n",
    "This `geojson` file came from the same source. Note that because of the complexity of the borough representations, each borough actually consists of many individual polygons (10 or so)."
   ]
  }
 ],
 "metadata": {
  "kernelspec": {
   "display_name": "Python 3",
   "language": "python",
   "name": "python3"
  },
  "language_info": {
   "codemirror_mode": {
    "name": "ipython",
    "version": 3
   },
   "file_extension": ".py",
   "mimetype": "text/x-python",
   "name": "python",
   "nbconvert_exporter": "python",
   "pygments_lexer": "ipython3",
   "version": "3.5.1"
  }
 },
 "nbformat": 4,
 "nbformat_minor": 0
}
